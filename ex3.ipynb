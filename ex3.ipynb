{
 "cells": [
  {
   "cell_type": "code",
   "execution_count": 63,
   "metadata": {},
   "outputs": [
    {
     "name": "stdout",
     "output_type": "stream",
     "text": [
      "[403 410]\n",
      "270.3516228913746\n",
      "354.26684857604164\n"
     ]
    },
    {
     "data": {
      "text/plain": [
       "-1"
      ]
     },
     "execution_count": 63,
     "metadata": {},
     "output_type": "execute_result"
    }
   ],
   "source": [
    "import cv2\n",
    "import numpy as np\n",
    "from matplotlib import pyplot as plt\n",
    "\n",
    "\n",
    "img = cv2.imread('blank.jpg')\n",
    "gray = cv2.cvtColor(img, cv2.COLOR_BGR2GRAY)\n",
    "gray = cv2.GaussianBlur(gray, (5, 5), 0)\n",
    "gray=np.float32(gray)\n",
    "\n",
    "corners=cv2.goodFeaturesToTrack(gray,100,0.01,30)\n",
    "corners=np.int0(corners)\n",
    "\n",
    "for corner in corners:\n",
    "    x,y=corner.ravel()\n",
    "   # cv2.circle(img,(x,y),3,255,-1)\n",
    "    \n",
    "br = tuple(corners[0].ravel())\n",
    "bl = tuple(corners[1].ravel())\n",
    "tl = tuple(corners[2].ravel())\n",
    "tr = tuple(corners[3].ravel())\n",
    "\n",
    "print(t1)\n",
    "\n",
    "cv2.line(img,br,bl, (0, 12, 255), 3)\n",
    "cv2.line(img,bl,tl, (0, 12, 255), 3)\n",
    "cv2.line(img,tr,tl, (0, 12, 255), 3)\n",
    "cv2.line(img,tr,br, (0, 12, 255), 3)\n",
    "\n",
    "def midpoint(pltA,pltB):\n",
    "    return ((pltA[0] + pltB[0]) * 0.5, (pltA[1] + pltB[1]) * 0.5)\n",
    "\n",
    "(tlblX, tlblY) = midpoint(tl,bl)\n",
    "(trbrX, trbrY) = midpoint(tr,br)\n",
    "(tltrX, tltrY) = midpoint(tl,tr)\n",
    "(blbrX, blbrY) = midpoint(bl,br)\n",
    "                          \n",
    "D = dist.euclidean((tlblX, tlblY), (trbrX, trbrY))\n",
    "D1 = dist.euclidean((tltrX, tltrY), (blbrX, blbrY))\n",
    "\n",
    "cv2.line(img, (int(tltrX), int(tltrY)), (int(blbrX), int(blbrY)),(255, 0, 255), 2)\n",
    "cv2.line(img, (int(tlblX), int(tlblY)), (int(trbrX), int(trbrY)),(255, 0, 255), 2)\n",
    "\n",
    "print(D)\n",
    "print(D1)\n",
    "\n",
    "cv2.imshow('canny:',img)\n",
    "cv2.waitKey(0)\n",
    "\n",
    "#plt.show()"
   ]
  },
  {
   "cell_type": "code",
   "execution_count": null,
   "metadata": {},
   "outputs": [],
   "source": []
  },
  {
   "cell_type": "code",
   "execution_count": null,
   "metadata": {},
   "outputs": [],
   "source": []
  },
  {
   "cell_type": "code",
   "execution_count": null,
   "metadata": {},
   "outputs": [],
   "source": []
  }
 ],
 "metadata": {
  "kernelspec": {
   "display_name": "Python 3",
   "language": "python",
   "name": "python3"
  },
  "language_info": {
   "codemirror_mode": {
    "name": "ipython",
    "version": 3
   },
   "file_extension": ".py",
   "mimetype": "text/x-python",
   "name": "python",
   "nbconvert_exporter": "python",
   "pygments_lexer": "ipython3",
   "version": "3.6.5"
  }
 },
 "nbformat": 4,
 "nbformat_minor": 2
}
